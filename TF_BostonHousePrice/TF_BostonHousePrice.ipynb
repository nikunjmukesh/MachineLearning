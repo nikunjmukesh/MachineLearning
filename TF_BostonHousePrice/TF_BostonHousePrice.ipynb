{
 "cells": [
  {
   "cell_type": "code",
   "execution_count": 17,
   "metadata": {},
   "outputs": [],
   "source": [
    "import tensorflow as tf\n",
    "import numpy as np\n",
    "import matplotlib.pyplot as plt\n",
    "import pandas as pd\n",
    "from tqdm import tqdm"
   ]
  },
  {
   "cell_type": "code",
   "execution_count": 18,
   "metadata": {
    "collapsed": true
   },
   "outputs": [],
   "source": [
    "\"\"\"Wrapper that returns training data for the Boston house prices dataset\"\"\"\n",
    "from sklearn.datasets import load_boston\n",
    "from sklearn.decomposition import PCA # to visualize our data\n",
    "from sklearn.preprocessing import normalize # to standardize our data\n",
    "from sklearn.model_selection import train_test_split\n",
    "\n",
    "def get_data():\n",
    "\tdata, targets = load_boston(True)\n",
    "\tdata = normalize(data)\n",
    "\ttargets = targets.reshape((targets.shape[0],1)) # reshape targets to follow our variables\n",
    "\tX_train, X_test, y_train, y_test = train_test_split(data, targets, \n",
    "\t                                                    test_size = 0.3, random_state = 42)\n",
    "\treturn X_train, X_test, y_train, y_test"
   ]
  },
  {
   "cell_type": "code",
   "execution_count": 19,
   "metadata": {
    "collapsed": true
   },
   "outputs": [],
   "source": [
    "X_train, X_test, y_train, y_test = get_data()"
   ]
  },
  {
   "cell_type": "code",
   "execution_count": 20,
   "metadata": {},
   "outputs": [
    {
     "name": "stdout",
     "output_type": "stream",
     "text": [
      "(354, 13),(152, 13),(354, 1),(152, 1)\n"
     ]
    }
   ],
   "source": [
    "print(\",\".join([str(t.shape) for t in (X_train, X_test, y_train, y_test)]))"
   ]
  },
  {
   "cell_type": "code",
   "execution_count": 21,
   "metadata": {
    "collapsed": true
   },
   "outputs": [],
   "source": [
    "crime_rates, prices = [X_train[i][0] for i in range (X_train.shape[0])],y_train.tolist()\n",
    "student_teacher_ratio = [X_train[i][10] for i in range(X_train.shape[0])]\n",
    "rooms = [X_train[i][5] for i in range(X_train.shape[0])]\n"
   ]
  },
  {
   "cell_type": "code",
   "execution_count": 22,
   "metadata": {
    "collapsed": true
   },
   "outputs": [],
   "source": [
    "# Create placeholders for X and y, our features and targets, respectively\n",
    "X = tf.placeholder(tf.float32, shape = [None,13])\n",
    "y = tf.placeholder(tf.float32, shape = [None,1])\n",
    "\n",
    "# Create variables for W and b, and initialize them with constants\n",
    "W = tf.Variable(tf.constant(0.1, shape=[13,1]))\n",
    "b = tf.Variable(tf.constant(0.1))\n"
   ]
  },
  {
   "cell_type": "code",
   "execution_count": 23,
   "metadata": {
    "collapsed": true
   },
   "outputs": [],
   "source": [
    "# Use tensorflow to write out the linear regression model and assign it to a variable y_pred\n",
    "# y_pred = ..\n",
    "y_pred = tf.matmul(X,W)+b\n",
    "loss = tf.reduce_mean(tf.square(y_pred - y))\n",
    "opt = tf.train.GradientDescentOptimizer(learning_rate=0.5).minimize(loss)"
   ]
  },
  {
   "cell_type": "code",
   "execution_count": 24,
   "metadata": {},
   "outputs": [
    {
     "name": "stdout",
     "output_type": "stream",
     "text": [
      "initial loss: 605.6507568359375\n"
     ]
    }
   ],
   "source": [
    "init = tf.global_variables_initializer()\n",
    "sess = tf.InteractiveSession()\n",
    "sess.run(init)\n",
    "initial_loss = loss.eval(feed_dict={X:X_train, y : y_train})\n",
    "print(\"initial loss: {}\".format(initial_loss))\n"
   ]
  },
  {
   "cell_type": "code",
   "execution_count": 27,
   "metadata": {},
   "outputs": [
    {
     "name": "stdout",
     "output_type": "stream",
     "text": [
      "current loss: 46.39813232421875\n",
      "current loss: 46.19076156616211\n",
      "current loss: 45.98733901977539\n",
      "current loss: 45.78779220581055\n",
      "current loss: 45.592044830322266\n",
      "current loss: 45.40000915527344\n",
      "current loss: 45.21162796020508\n",
      "current loss: 45.026817321777344\n",
      "current loss: 44.84550476074219\n",
      "current loss: 44.66762161254883\n",
      "current loss: 44.49310302734375\n",
      "current loss: 44.321876525878906\n",
      "current loss: 44.15388107299805\n",
      "current loss: 43.98904800415039\n",
      "current loss: 43.82732009887695\n",
      "current loss: 43.66862106323242\n",
      "current loss: 43.51290512084961\n",
      "current loss: 43.360103607177734\n",
      "current loss: 43.210166931152344\n",
      "current loss: 43.06302261352539\n",
      "current loss: 42.91863250732422\n",
      "current loss: 42.77693176269531\n",
      "current loss: 42.63787078857422\n",
      "current loss: 42.50139617919922\n",
      "current loss: 42.36745071411133\n",
      "current loss: 42.235984802246094\n",
      "current loss: 42.10695266723633\n",
      "current loss: 41.980316162109375\n",
      "current loss: 41.85600662231445\n",
      "current loss: 41.73398971557617\n",
      "current loss: 41.614219665527344\n",
      "current loss: 41.496646881103516\n",
      "current loss: 41.381229400634766\n",
      "current loss: 41.2679328918457\n",
      "current loss: 41.15670394897461\n",
      "current loss: 41.047508239746094\n",
      "current loss: 40.94029998779297\n",
      "current loss: 40.835044860839844\n",
      "current loss: 40.7317008972168\n",
      "current loss: 40.63022232055664\n",
      "current loss: 40.53059005737305\n",
      "current loss: 40.43275833129883\n",
      "current loss: 40.336692810058594\n",
      "current loss: 40.24235153198242\n",
      "current loss: 40.14970779418945\n",
      "current loss: 40.0587272644043\n",
      "current loss: 39.96937561035156\n",
      "current loss: 39.881622314453125\n",
      "current loss: 39.79542922973633\n",
      "current loss: 39.710777282714844\n"
     ]
    }
   ],
   "source": [
    "for i in range(5000):\n",
    "    # Run optimization step with the training data passed in\n",
    "    sess.run(opt, feed_dict={X:X_train, y:y_train})\n",
    "    if( i % 100) == 0:\n",
    "        # Print the current error of the model so we can know how the model is doing while training\n",
    "        print(\"current loss: {}\".format(loss.eval(feed_dict={X:X_train, y:y_train})))\n",
    "        \n",
    "# Evaluate and print the final loss on the training and testing datasets."
   ]
  },
  {
   "cell_type": "code",
   "execution_count": 30,
   "metadata": {},
   "outputs": [
    {
     "name": "stdout",
     "output_type": "stream",
     "text": [
      "predictions: 27.383995056152344, actual was: 24.1\n",
      "predictions: 29.327556610107422, actual was: 23.1\n",
      "predictions: 23.828163146972656, actual was: 17.6\n",
      "predictions: 26.076751708984375, actual was: 24.6\n",
      "predictions: 22.696502685546875, actual was: 23.7\n",
      "predictions: 21.979896545410156, actual was: 16.8\n",
      "predictions: 36.49875259399414, actual was: 50.0\n",
      "predictions: 20.81909942626953, actual was: 29.8\n",
      "predictions: 19.711631774902344, actual was: 19.9\n",
      "predictions: 20.81909942626953, actual was: 29.8\n"
     ]
    }
   ],
   "source": [
    "data,targets = X_test, y_test\n",
    "predictions = sess.run(y_pred, feed_dict={X:data})\n",
    "predictions = predictions.flatten()\n",
    "targets = targets.reshape((152))\n",
    "\n",
    "#lets take a look at some predictions\n",
    "for i in range(10):\n",
    "    randint = np.random.randint(0,152)\n",
    "    pred = predictions[randint]\n",
    "    actual = targets[randint]\n",
    "    print(\"predictions: {}, actual was: {}\".format(pred, actual))\n",
    "    \n",
    "    \n"
   ]
  },
  {
   "cell_type": "code",
   "execution_count": 31,
   "metadata": {},
   "outputs": [
    {
     "data": {
      "image/png": "[encoded data removed]",
      "text/plain": [
       "<matplotlib.figure.Figure at 0x1d587497d30>"
      ]
     },
     "metadata": {},
     "output_type": "display_data"
    },
    {
     "name": "stdout",
     "output_type": "stream",
     "text": [
      "average absolute difference: 4184.991743690089\n",
      "average house price: 21407.894736842107\n"
     ]
    }
   ],
   "source": [
    "diffs = abs(targets - predictions)\n",
    "avg_diffs = np.mean(diffs)\n",
    "avg_houseprice = np.mean(targets)\n",
    "plt.xlabel(\"home price values\")\n",
    "plt.ylabel(\"Diff btwn targets and functions\")\n",
    "plt.scatter(targets, diffs)\n",
    "plt.show()\n",
    "print(\"average absolute difference: {}\".format(avg_diffs * 1000))\n",
    "print(\"average house price: {}\".format(avg_houseprice * 1000))\n"
   ]
  },
  {
   "cell_type": "code",
   "execution_count": 33,
   "metadata": {},
   "outputs": [
    {
     "name": "stdout",
     "output_type": "stream",
     "text": [
      "{0: 0, 10: 0, 20: 0, 30: 0, 40: 0, 50: 0}\n"
     ]
    }
   ],
   "source": [
    "price_buckets = [0, 10, 20, 30, 40, 50]\n",
    "limits = dict(zip(price_buckets, [0 for _ in range(len(price_buckets))]))\n",
    "print(limits)\n"
   ]
  },
  {
   "cell_type": "code",
   "execution_count": 34,
   "metadata": {},
   "outputs": [
    {
     "name": "stdout",
     "output_type": "stream",
     "text": [
      "0 : 8\n",
      "10 : 66\n",
      "20 : 60\n",
      "30 : 11\n",
      "40 : 3\n",
      "50 : 4\n"
     ]
    }
   ],
   "source": [
    "for price in targets:\n",
    "    limits[int(price/10)*10]+=1\n",
    "    \n",
    "for k,v in sorted(limits.items()):\n",
    "    print(\"{} : {}\".format(k,v))"
   ]
  },
  {
   "cell_type": "code",
   "execution_count": null,
   "metadata": {
    "collapsed": true
   },
   "outputs": [],
   "source": []
  }
 ],
 "metadata": {
  "kernelspec": {
   "display_name": "Python 3",
   "language": "python",
   "name": "python3"
  },
  "language_info": {
   "codemirror_mode": {
    "name": "ipython",
    "version": 3
   },
   "file_extension": ".py",
   "mimetype": "text/x-python",
   "name": "python",
   "nbconvert_exporter": "python",
   "pygments_lexer": "ipython3",
   "version": "3.6.3"
  }
 },
 "nbformat": 4,
 "nbformat_minor": 2
}
