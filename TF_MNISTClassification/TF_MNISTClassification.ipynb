{
 "cells": [
  {
   "cell_type": "code",
   "execution_count": 7,
   "metadata": {},
   "outputs": [
    {
     "name": "stdout",
     "output_type": "stream",
     "text": [
      "Successfully downloaded train-images-idx3-ubyte.gz 9912422 bytes.\n",
      "Extracting MNIST_data\\train-images-idx3-ubyte.gz\n",
      "Successfully downloaded train-labels-idx1-ubyte.gz 28881 bytes.\n",
      "Extracting MNIST_data\\train-labels-idx1-ubyte.gz\n",
      "Successfully downloaded t10k-images-idx3-ubyte.gz 1648877 bytes.\n",
      "Extracting MNIST_data\\t10k-images-idx3-ubyte.gz\n",
      "Successfully downloaded t10k-labels-idx1-ubyte.gz 4542 bytes.\n",
      "Extracting MNIST_data\\t10k-labels-idx1-ubyte.gz\n"
     ]
    }
   ],
   "source": [
    "import tensorflow as tf\n",
    "import numpy as np\n",
    "import pandas as pd\n",
    "import matplotlib.pyplot as plt\n",
    "from sklearn.datasets import make_classification\n",
    "from tensorflow.examples.tutorials.mnist import input_data\n",
    "MNIST = input_data.read_data_sets('MNIST_data', one_hot = True)"
   ]
  },
  {
   "cell_type": "code",
   "execution_count": 9,
   "metadata": {},
   "outputs": [
    {
     "name": "stdout",
     "output_type": "stream",
     "text": [
      "loss: 2.1108551025390625\n",
      "loss: 0.3502383828163147\n",
      "loss: 0.34167325496673584\n",
      "loss: 0.2512718439102173\n",
      "loss: 0.3359946012496948\n",
      "test acc: 0.9200999736785889\n"
     ]
    }
   ],
   "source": [
    "lr = 0.1 # learning rate \n",
    "batch_size = 128 # the number of example we will consider per iterations\n",
    "n_epochs = 2500 # number of iteration\n",
    "\n",
    "# create placeholders for X and Y\n",
    "X = tf.placeholder(tf.float32,[None,784])\n",
    "Y = tf.placeholder(tf.float32, [None, 10])\n",
    "\n",
    "# create variable for W and b\n",
    "w = tf.Variable(tf.truncated_normal(shape = [784,10], stddev = 0.01), name = 'w')\n",
    "b = tf.Variable(tf.zeros([1,10]),name = 'b')\n",
    "\n",
    "logits = tf.matmul(X,w)+b\n",
    "normalized_logits = tf.nn.softmax(logits)\n",
    "\n",
    "# cross entropy loss\n",
    "cross_entropy = tf.reduce_mean(tf.nn.softmax_cross_entropy_with_logits_v2(labels = Y, logits = logits))\n",
    "\n",
    "# mean_square loss\n",
    "mean_square_loss = tf.reduce_mean(tf.square(Y - normalized_logits))\n",
    "\n",
    "loss = cross_entropy\n",
    "\n",
    "#Gradient descent optimizer\n",
    "opt = tf.train.GradientDescentOptimizer(learning_rate= lr).minimize(loss)\n",
    "\n",
    "cp = tf.equal(tf.argmax(logits, axis =1), tf.argmax(Y,axis = 1))\n",
    "acc = tf.reduce_mean(tf.cast(cp, tf.float32))\n",
    "\n",
    "\n",
    "init = tf.global_variables_initializer()\n",
    "sess = tf.InteractiveSession()\n",
    "sess.run(init)\n",
    "\n",
    "for i in range(n_epochs):\n",
    "    batch = MNIST.train.next_batch(batch_size)\n",
    "    sess.run(opt, feed_dict={X:batch[0], Y:batch[1]})\n",
    "    if(i%500 == 0):\n",
    "        l = loss.eval(feed_dict={X:batch[0],Y:batch[1]})\n",
    "        print(\"loss: {}\".format(l))\n",
    "\n",
    "a = acc.eval(feed_dict={X: MNIST.test.images, Y: MNIST.test.labels})\n",
    "print(\"test acc: {}\".format(a))\n",
    "\n",
    "\n",
    "\n",
    "\n",
    "\n",
    "\n"
   ]
  },
  {
   "cell_type": "code",
   "execution_count": 10,
   "metadata": {},
   "outputs": [
    {
     "data": {
      "image/png": "[encoded data removed]",
      "text/plain": [
       "<matplotlib.figure.Figure at 0x28443552e80>"
      ]
     },
     "metadata": {},
     "output_type": "display_data"
    },
    {
     "name": "stdout",
     "output_type": "stream",
     "text": [
      "predicted 4, ground truth was 4\n",
      "predicted 1, ground truth was 1\n",
      "predicted 0, ground truth was 0\n",
      "predicted 5, ground truth was 3\n",
      "predicted 6, ground truth was 6\n"
     ]
    }
   ],
   "source": [
    "def plot_images(images):\n",
    "    for i in range(images.shape[0]):\n",
    "        plt.subplot(1, 5, i + 1) # Plotting 1 row of NUM_FIGURES.\n",
    "        plt.axis('off')\n",
    "        plt.imshow(images[i].reshape((28,28)), cmap = plt.cm.gray_r)\n",
    "    plt.show()\n",
    "    \n",
    "# TODO: Take some random images from the MNIST dataset, run a prediction, and display the prediction and the actual label.\n",
    "\n",
    "NUM_IMAGES = 5\n",
    "rand_image_idx = np.random.randint(0, MNIST.test.images.shape[1], NUM_IMAGES)\n",
    "images, labels = [MNIST.test.images[i] for i in rand_image_idx], [MNIST.test.labels[i] for i in rand_image_idx]\n",
    "images, labels = np.array(images), np.array(labels)\n",
    "plot_images(images)\n",
    "for i in range(images.shape[0]):\n",
    "    prediction = sess.run(logits, feed_dict = {X: images[i].reshape((1, images[i].shape[0])), Y: labels[i].reshape((1, labels[i].shape[0]))})\n",
    "    predicted_label = np.argmax(prediction)\n",
    "    actual_label = np.argmax(labels[i])\n",
    "    print(\"predicted {}, ground truth was {}\".format(predicted_label, actual_label))"
   ]
  },
  {
   "cell_type": "code",
   "execution_count": null,
   "metadata": {
    "collapsed": true
   },
   "outputs": [],
   "source": []
  }
 ],
 "metadata": {
  "kernelspec": {
   "display_name": "Python 3",
   "language": "python",
   "name": "python3"
  },
  "language_info": {
   "codemirror_mode": {
    "name": "ipython",
    "version": 3
   },
   "file_extension": ".py",
   "mimetype": "text/x-python",
   "name": "python",
   "nbconvert_exporter": "python",
   "pygments_lexer": "ipython3",
   "version": "3.6.3"
  }
 },
 "nbformat": 4,
 "nbformat_minor": 2
}
